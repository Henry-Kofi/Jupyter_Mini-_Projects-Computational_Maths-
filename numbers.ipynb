{
 "cells": [
  {
   "cell_type": "code",
   "execution_count": 191,
   "metadata": {},
   "outputs": [],
   "source": [
    "\n",
    "from random import randint as ran\n",
    "import numpy as np\n",
    "\n"
   ]
  },
  {
   "attachments": {},
   "cell_type": "markdown",
   "metadata": {},
   "source": [
    ". Write a program that generates and prints 50 random integers, each between 3 and 6"
   ]
  },
  {
   "cell_type": "code",
   "execution_count": 59,
   "metadata": {},
   "outputs": [
    {
     "name": "stdout",
     "output_type": "stream",
     "text": [
      "[4, 4, 4, 4, 4, 4, 4, 4, 4, 4, 4, 4, 4, 4, 4, 4, 4, 4, 4, 4, 4, 4, 4, 4, 4, 4, 4, 4, 4, 4, 4, 4, 4, 4, 4, 4, 4, 4, 4, 4, 4, 4, 4, 4, 4, 4, 4, 4, 4, 4]\n"
     ]
    }
   ],
   "source": [
    "x  = ran(3,6)\n",
    "y = []\n",
    "for i in range(50):\n",
    "    y.append(x)\n",
    "print(y)"
   ]
  },
  {
   "attachments": {},
   "cell_type": "markdown",
   "metadata": {},
   "source": [
    "Write a program that generates a random number, x, between 1 and 50, a random number y\n",
    "between 2 and 5, and computes $x^y$\n",
    "."
   ]
  },
  {
   "cell_type": "code",
   "execution_count": 69,
   "metadata": {},
   "outputs": [
    {
     "name": "stdout",
     "output_type": "stream",
     "text": [
      "x =  30 \n",
      " y =  2\n",
      "900\n"
     ]
    }
   ],
   "source": [
    "x = ran(1,50)\n",
    "y = ran(2,5)\n",
    "print('x = ',x,'\\n','y = ',y)\n",
    "print(x**y)"
   ]
  },
  {
   "attachments": {},
   "cell_type": "markdown",
   "metadata": {},
   "source": [
    "Write a program that generates a random number between 1 and 10 and prints your name\n",
    "that many times."
   ]
  },
  {
   "cell_type": "code",
   "execution_count": 72,
   "metadata": {},
   "outputs": [
    {
     "name": "stdout",
     "output_type": "stream",
     "text": [
      "random number is  2\n",
      "Kofi\n",
      "Kofi\n"
     ]
    }
   ],
   "source": [
    "z = ran(1,10)\n",
    "name = 'Kofi'\n",
    "print('random number is ',z)\n",
    "for i in range(z):\n",
    "    print(name)"
   ]
  },
  {
   "attachments": {},
   "cell_type": "markdown",
   "metadata": {},
   "source": [
    " Write a program that generates 50 random numbers such that the first number is between 1\n",
    "and 2, the second is between 1 and 3, the third is between 1 and 4, . . . , and the last is between\n",
    "1 and 51"
   ]
  },
  {
   "cell_type": "code",
   "execution_count": 186,
   "metadata": {},
   "outputs": [
    {
     "name": "stdout",
     "output_type": "stream",
     "text": [
      "[1, 2, 1, 4, 6, 3, 5, 7, 4, 4, 5, 8, 4, 13, 3, 9, 17, 5, 9, 20, 7, 20, 9, 7, 2, 12, 22, 10, 27, 17, 31, 23, 2, 15, 8, 8, 24, 16, 20, 17, 18, 16, 30, 12, 16, 6, 20, 32, 4, 4]\n",
      "50\n"
     ]
    }
   ],
   "source": [
    "y = []\n",
    "for i in range(1,51):\n",
    "    y.append(ran(1,i+1))  \n",
    "print(y)\n",
    "\n",
    "#print(\"%0.2f\"%x)"
   ]
  },
  {
   "attachments": {},
   "cell_type": "markdown",
   "metadata": {},
   "source": [
    "Write a program thatasks the user to enter two numbers,$x$and$y$ and compute $\\frac{|x-y|}{x+y}$."
   ]
  },
  {
   "cell_type": "code",
   "execution_count": 201,
   "metadata": {},
   "outputs": [
    {
     "name": "stdout",
     "output_type": "stream",
     "text": [
      "x:  3.0\n",
      "y:  4.0\n",
      "0.14285714285714285\n"
     ]
    }
   ],
   "source": [
    "import math\n",
    "x  = float(input('Enter first number'))\n",
    "y  = float(input('Enter second number'))\n",
    "\n",
    "print('x: ',x)\n",
    "print('y: ',y)\n",
    "print(abs(x-y)/(x+y))\n"
   ]
  },
  {
   "attachments": {},
   "cell_type": "markdown",
   "metadata": {},
   "source": [
    "Write a program that asks the user to enter an angle between −180◦\n",
    "and 180◦\n",
    ". Using an\n",
    "expression with the modulo operator, convert the angle to its equivalent between 0\n",
    "◦\n",
    "and\n",
    "360◦\n",
    "."
   ]
  },
  {
   "cell_type": "code",
   "execution_count": 211,
   "metadata": {},
   "outputs": [
    {
     "name": "stdout",
     "output_type": "stream",
     "text": [
      "Angle: -145.0\n",
      "215.0\n"
     ]
    }
   ],
   "source": [
    "a = float(input('Enter angle between -180 and 180'))\n",
    "print('Angle:',a )\n",
    "print(a%360)"
   ]
  },
  {
   "attachments": {},
   "cell_type": "markdown",
   "metadata": {},
   "source": [
    ". Write a program that asks the user for a number of seconds and prints out how many minutes\n",
    "and seconds that is. For instance, 200 seconds is 3 minutes and 20 seconds. [Hint: Use the //\n",
    "operator to get minutes and the % operator to get seconds.]"
   ]
  },
  {
   "cell_type": "code",
   "execution_count": 218,
   "metadata": {},
   "outputs": [
    {
     "name": "stdout",
     "output_type": "stream",
     "text": [
      "input:  321\n",
      "5 mins  21 secs\n"
     ]
    }
   ],
   "source": [
    "a = int(input('Enter the number of seconds'))\n",
    "\n",
    "if a<60:\n",
    "    print(a,'secs')\n",
    "else:\n",
    "    b = a//60\n",
    "    c = a%60\n",
    "    print('input: ',a)\n",
    "    print(b,'mins ',c,'secs')\n",
    "    "
   ]
  },
  {
   "attachments": {},
   "cell_type": "markdown",
   "metadata": {},
   "source": [
    " Write a program that asks the user for an hour between 1 and 12 and for how many hours in\n",
    "the future they want to go. Print out what the hour will be that many hours into the future.\n",
    "An example is shown below\n",
    "\n",
    "Enter hour: 8\n",
    "\n",
    "How many hours ahead? 5\n",
    "\n",
    "New hour: 1 o'clock\n"
   ]
  },
  {
   "cell_type": "code",
   "execution_count": 223,
   "metadata": {},
   "outputs": [
    {
     "name": "stdout",
     "output_type": "stream",
     "text": [
      "a:  8\n",
      "b 8\n",
      "New hour is  4 o'clock\n"
     ]
    }
   ],
   "source": [
    "a = int(input('Enter hour: '))\n",
    "b = int(input('how many hours ahead: '))\n",
    "newHour = (a+b)%12\n",
    "# print('a: ',a)\n",
    "# print('b',b)\n",
    "print('New hour is ', newHour , \"o'clock\")"
   ]
  },
  {
   "attachments": {},
   "cell_type": "markdown",
   "metadata": {},
   "source": [
    "(a) One way to find out the last digit of a number is to mod the number by 10. Write a\n",
    "program that asks the user to enter a power. Then find the last digit of 2 raised to that\n",
    "power.\n",
    "\n",
    "(b) One way to find out the last two digits of a number is to mod the number by 100. Write\n",
    "a program that asks the user to enter a power. Then find the last two digits of 2 raised to\n",
    "that power.\n",
    "\n",
    "(c) Write a program that asks the user to enter a power and how many digits they want.\n",
    "Find the last that many digits of 2 raised to the power the user entered."
   ]
  },
  {
   "cell_type": "code",
   "execution_count": 233,
   "metadata": {},
   "outputs": [
    {
     "name": "stdout",
     "output_type": "stream",
     "text": [
      "the last digit is  6\n"
     ]
    }
   ],
   "source": [
    "#(a)\n",
    "a = int(input('Enter a power: '))\n",
    "\n",
    "\n",
    "b = (2**a)%10\n",
    "print('the last digit is ', b)"
   ]
  },
  {
   "cell_type": "code",
   "execution_count": 235,
   "metadata": {},
   "outputs": [
    {
     "name": "stdout",
     "output_type": "stream",
     "text": [
      "the last two digit is  76\n"
     ]
    }
   ],
   "source": [
    "#(b)\n",
    "a = int(input('Enter a power: '))\n",
    "\n",
    "\n",
    "b = (2**a)%100\n",
    "print('the last two digit is ', b)"
   ]
  },
  {
   "cell_type": "code",
   "execution_count": 255,
   "metadata": {},
   "outputs": [
    {
     "name": "stdout",
     "output_type": "stream",
     "text": [
      "the last two digit is  6703205376\n"
     ]
    }
   ],
   "source": [
    "#(c)\n",
    "a = int(input('Enter a power: '))\n",
    "c = int(input('How many last digits do you want: '))\n",
    "\n",
    "# below is a refence\n",
    "\n",
    "# c = 2      assumed number of digets user wants \n",
    "\n",
    "# y ='1'    we equate to y to 1 in string format \n",
    "\n",
    "# z = '0'*2  since user wants 2 digits, we multiply 0 by 2 in string format\n",
    "\n",
    "# x = int(y + z) here we concatinate(join) the two strings and covert to int to obtain 100 as required\n",
    "\n",
    "\n",
    "\n",
    "\n",
    "d = int('1' + ('0'*c))  #this is a combination of the above buh in this case c varies\n",
    "b = (2**a)%d\n",
    "print('the last two digit is ', b)"
   ]
  },
  {
   "cell_type": "code",
   "execution_count": 253,
   "metadata": {},
   "outputs": [
    {
     "name": "stdout",
     "output_type": "stream",
     "text": [
      "<class 'int'>\n"
     ]
    }
   ],
   "source": []
  },
  {
   "attachments": {},
   "cell_type": "markdown",
   "metadata": {},
   "source": [
    "Write a program that draws “modular rectangles” like the ones below. The user specifies the\n",
    "width and height of the rectangle, and the entries start at 0 and increase typewriter fashion\n",
    "from left to right and top to bottom, but are all done mod 10. Below are examples of a 3 × 5\n",
    "rectangle and a 4 × 8\n",
    "\n",
    "0 1 2 3 4\n",
    "\n",
    "5 6 7 8 9\n",
    "\n",
    "0 1 2 3 4\n"
   ]
  },
  {
   "cell_type": "code",
   "execution_count": 266,
   "metadata": {},
   "outputs": [
    {
     "name": "stdout",
     "output_type": "stream",
     "text": [
      "[[0 1 2 3 4]\n",
      " [5 6 7 8 9]\n",
      " [0 1 2 3 4]]\n"
     ]
    }
   ],
   "source": [
    "h = int(input('specify the height: '))\n",
    "w = int(input('specify the width: '))\n",
    "\n",
    "x = np.arange(w*h).reshape(h,w)\n",
    "print(x%10)\n",
    "\n",
    "\n"
   ]
  }
 ],
 "metadata": {
  "kernelspec": {
   "display_name": "Python 3",
   "language": "python",
   "name": "python3"
  },
  "language_info": {
   "codemirror_mode": {
    "name": "ipython",
    "version": 3
   },
   "file_extension": ".py",
   "mimetype": "text/x-python",
   "name": "python",
   "nbconvert_exporter": "python",
   "pygments_lexer": "ipython3",
   "version": "3.11.3"
  },
  "orig_nbformat": 4
 },
 "nbformat": 4,
 "nbformat_minor": 2
}

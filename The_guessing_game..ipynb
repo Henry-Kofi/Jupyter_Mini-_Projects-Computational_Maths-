{
 "cells": [
  {
   "cell_type": "code",
   "execution_count": 58,
   "metadata": {},
   "outputs": [
    {
     "name": "stdout",
     "output_type": "stream",
     "text": [
      "LOWER.    4  guesses left\n",
      "HIGHER.   3  guesses left\n",
      "HIGHER.   2  guesses left\n",
      "HIGHER.   1  guesses left\n",
      "HIGHER.   0  guesses left\n",
      "You lose. The correct number is  40\n"
     ]
    }
   ],
   "source": [
    "from random import randint as ran\n",
    "\n",
    "a = ran(1,100)\n",
    "t = 5\n",
    "\n",
    "for i in range(1,6):\n",
    "    t -= 1\n",
    "    b = int(input('Enter your guess (1-100): '))\n",
    "    if a == b:\n",
    "        print('YOU WON.')\n",
    "        break\n",
    "    else:\n",
    "        if t == 0:\n",
    "            if a<b:\n",
    "                print('LOWER.   ', t, ' guesses left')\n",
    "                print('You lose. The correct number is ', a) \n",
    "            elif a>b:\n",
    "                print('HIGHER.  ', t, ' guesses left')\n",
    "                print('You lose. The correct number is ', a) \n",
    "            \n",
    "        elif a < b and t>=0:\n",
    "            print('LOWER.   ', t, ' guesses left')\n",
    "            continue\n",
    "        elif a > b and t >= 0:\n",
    "            print('HIGHER.  ', t ,' guesses left')\n",
    "            continue "
   ]
  },
  {
   "cell_type": "code",
   "execution_count": 59,
   "metadata": {},
   "outputs": [
    {
     "name": "stdout",
     "output_type": "stream",
     "text": [
      "LOWER.    4  guesses left\n",
      "LOWER.    3  guesses left\n",
      "HIGHER.   2  guesses left\n",
      "HIGHER.   1  guesses left\n",
      "YOU WON.\n"
     ]
    }
   ],
   "source": [
    "# ANOTHER WAY\n",
    "# USING THE WHILE LOOP\n",
    "from random import randint as ran\n",
    "\n",
    "a = ran(1,100)\n",
    "\n",
    "i = 0\n",
    "t = 5\n",
    "while i<=4:\n",
    "    i+=1\n",
    "    t -= 1\n",
    "    b = int(input('Enter your guess (1-100): '))\n",
    "    if a == b:\n",
    "        print('YOU WON.')\n",
    "        break\n",
    "    else:\n",
    "        if t == 0:\n",
    "            if a<b:\n",
    "                print('LOWER.   ', t, ' guesses left')\n",
    "                print('You lose. The correct number is ', a) \n",
    "            elif a>b:\n",
    "                print('HIGHER.  ', t, ' guesses left')\n",
    "                print('You lose. The correct number is ', a) \n",
    "            \n",
    "        elif a < b and t>=0:\n",
    "            print('LOWER.   ', t, ' guesses left')\n",
    "            continue\n",
    "        elif a > b and t >= 0:\n",
    "            print('HIGHER.  ', t ,' guesses left')\n",
    "            continue \n"
   ]
  }
 ],
 "metadata": {
  "kernelspec": {
   "display_name": "Python 3",
   "language": "python",
   "name": "python3"
  },
  "language_info": {
   "codemirror_mode": {
    "name": "ipython",
    "version": 3
   },
   "file_extension": ".py",
   "mimetype": "text/x-python",
   "name": "python",
   "nbconvert_exporter": "python",
   "pygments_lexer": "ipython3",
   "version": "3.11.3"
  },
  "orig_nbformat": 4
 },
 "nbformat": 4,
 "nbformat_minor": 2
}

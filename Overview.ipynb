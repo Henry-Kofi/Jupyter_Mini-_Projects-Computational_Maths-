{
 "cells": [
  {
   "attachments": {},
   "cell_type": "markdown",
   "metadata": {},
   "source": [
    "Print a box like the one below\n",
    "****************\n",
    "\n",
    "****************\n",
    "\n",
    "****************\n",
    "\n",
    "****************"
   ]
  },
  {
   "cell_type": "code",
   "execution_count": 16,
   "metadata": {},
   "outputs": [
    {
     "name": "stdout",
     "output_type": "stream",
     "text": [
      "**********\n",
      "**********\n",
      "**********\n",
      "**********\n"
     ]
    }
   ],
   "source": [
    "a =[]\n",
    "for i in range(0,4):\n",
    "    print('*'*10)\n",
    "\n",
    "\n",
    "\n",
    "\n"
   ]
  },
  {
   "cell_type": "code",
   "execution_count": 20,
   "metadata": {},
   "outputs": [
    {
     "name": "stdout",
     "output_type": "stream",
     "text": [
      "\n",
      "*\n",
      "**\n",
      "***\n",
      "****\n"
     ]
    }
   ],
   "source": [
    "for i in range(0,5):\n",
    "    print('*'*i)"
   ]
  },
  {
   "cell_type": "code",
   "execution_count": 25,
   "metadata": {},
   "outputs": [
    {
     "name": "stdout",
     "output_type": "stream",
     "text": [
      "*\n",
      "**\n",
      "***\n",
      "****\n"
     ]
    }
   ],
   "source": [
    "i = 0\n",
    "while i<4:\n",
    "    i+=1\n",
    "    print('*'*i)\n",
    "    "
   ]
  },
  {
   "attachments": {},
   "cell_type": "markdown",
   "metadata": {},
   "source": [
    "Write a program that computes and prints the results of $\\frac{512 -282}{47.48+5}$"
   ]
  },
  {
   "cell_type": "code",
   "execution_count": 28,
   "metadata": {},
   "outputs": [
    {
     "name": "stdout",
     "output_type": "stream",
     "text": [
      "0.1017249004865104\n"
     ]
    }
   ],
   "source": [
    "print((512 - 282)/(47*48 +5))"
   ]
  },
  {
   "attachments": {},
   "cell_type": "markdown",
   "metadata": {},
   "source": [
    " Ask the user to enter a number. Print out the square of the number,\n",
    "  but use the $sep$ optional\n",
    "argument to print it out in a full sentence that ends in a period. Sample output is shown\n",
    "below"
   ]
  },
  {
   "cell_type": "code",
   "execution_count": 33,
   "metadata": {},
   "outputs": [
    {
     "name": "stdout",
     "output_type": "stream",
     "text": [
      "The square of 5 is 25.\n"
     ]
    }
   ],
   "source": [
    "a = int(input('Enter a number: '))\n",
    "print('The square of ',a ,' is ',a**2,'.',sep='')"
   ]
  },
  {
   "attachments": {},
   "cell_type": "markdown",
   "metadata": {},
   "source": [
    " Ask the user to enter a number x. Use the sep optional argument to print out $x, 2x, 3x, 4x,\n",
    "and\\ 5x, $ each separated by three dashes"
   ]
  },
  {
   "cell_type": "code",
   "execution_count": 65,
   "metadata": {},
   "outputs": [
    {
     "name": "stdout",
     "output_type": "stream",
     "text": [
      "7---14---21---28---35\n"
     ]
    }
   ],
   "source": [
    "x = int(input('Enter a number: '))\n",
    "i = 0\n",
    "y = []\n",
    "while i<5:\n",
    "    i+=1\n",
    "    y.append(x*i)\n",
    "print(*y,sep=('---'))"
   ]
  },
  {
   "cell_type": "code",
   "execution_count": 72,
   "metadata": {},
   "outputs": [
    {
     "name": "stdout",
     "output_type": "stream",
     "text": [
      "7---14---21---28---35\n"
     ]
    }
   ],
   "source": [
    "x = int(input('Enter a number: '))\n",
    "y=[]\n",
    "for i in range(1,6):\n",
    "    y.append(x*i)\n",
    "print(*y,sep='---')\n",
    "\n"
   ]
  },
  {
   "attachments": {},
   "cell_type": "markdown",
   "metadata": {},
   "source": [
    "Write a program that asks the user for a weight in kilograms and converts it to pounds. There\n",
    "are 2.2 pounds in a kilogram"
   ]
  },
  {
   "cell_type": "code",
   "execution_count": 76,
   "metadata": {},
   "outputs": [
    {
     "name": "stdout",
     "output_type": "stream",
     "text": [
      "weight in pounds is:  0.22000000000000003\n"
     ]
    }
   ],
   "source": [
    "weightInKg = float(input('Enter weight in Kilogram: '))\n",
    "pounds = weightInKg * 2.2\n",
    "print('weight in pounds is: ',pounds)"
   ]
  },
  {
   "attachments": {},
   "cell_type": "markdown",
   "metadata": {},
   "source": [
    "Write a program that asks the user to enter three numbers (use three separate input statements). Create variables called $total$ and $average$ that hold the $sum$ and $average$ of the\n",
    "three numbers and print out the values of $total$ and $average$."
   ]
  },
  {
   "cell_type": "code",
   "execution_count": 98,
   "metadata": {},
   "outputs": [
    {
     "name": "stdout",
     "output_type": "stream",
     "text": [
      "Total of the three numbers is: 6.0.\n",
      "The average of the three numbers is 2.0.\n"
     ]
    }
   ],
   "source": [
    "firstnum= float(input('Enter first numbers: '))\n",
    "secondnum = float(input('Enter second number: '))\n",
    "lastnum = float(input('Enter last number: '))\n",
    "\n",
    "total = firstnum+secondnum+lastnum\n",
    "average = total/3\n",
    "\n",
    "print('Total of the three numbers is: ',total,'.',sep='')\n",
    "print('The average of the three numbers is ',average,'.',sep='')\n"
   ]
  },
  {
   "attachments": {},
   "cell_type": "markdown",
   "metadata": {},
   "source": [
    "A lot of cell phones have tip calculators. Write one. Ask the user for the price of the meal and\n",
    "the percent tip they want to leave. Then print both the tip amount and the total bill with the\n",
    "tip included."
   ]
  },
  {
   "cell_type": "code",
   "execution_count": 105,
   "metadata": {},
   "outputs": [
    {
     "name": "stdout",
     "output_type": "stream",
     "text": [
      "The tip amount is Ghc12.0.\n",
      "Your total bill is Ghc112.0.\n"
     ]
    }
   ],
   "source": [
    "Price = float(input('Enter the price of the meal:'))\n",
    "percentageTip = float(input('Enter the percentge tip:'))\n",
    "\n",
    "amountTip = (percentageTip/100) * Price\n",
    "billTotal = Price + amountTip\n",
    "\n",
    "print('The tip amount is Ghc',round(amountTip, 2),'.',sep='')\n",
    "print('Your total bill is Ghc',round(billTotal,2),'.',sep='')\n",
    "\n"
   ]
  }
 ],
 "metadata": {
  "kernelspec": {
   "display_name": "Python 3",
   "language": "python",
   "name": "python3"
  },
  "language_info": {
   "codemirror_mode": {
    "name": "ipython",
    "version": 3
   },
   "file_extension": ".py",
   "mimetype": "text/x-python",
   "name": "python",
   "nbconvert_exporter": "python",
   "pygments_lexer": "ipython3",
   "version": "3.11.3"
  },
  "orig_nbformat": 4
 },
 "nbformat": 4,
 "nbformat_minor": 2
}

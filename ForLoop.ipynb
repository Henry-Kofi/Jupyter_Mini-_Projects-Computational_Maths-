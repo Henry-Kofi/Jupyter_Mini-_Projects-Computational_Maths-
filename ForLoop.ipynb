{
 "cells": [
  {
   "attachments": {},
   "cell_type": "markdown",
   "metadata": {},
   "source": [
    "Write a program that prints your name 100 times"
   ]
  },
  {
   "cell_type": "code",
   "execution_count": 8,
   "metadata": {},
   "outputs": [
    {
     "name": "stdout",
     "output_type": "stream",
     "text": [
      "Kofi\n",
      "Kofi\n",
      "Kofi\n",
      "Kofi\n",
      "Kofi\n",
      "Kofi\n",
      "Kofi\n",
      "Kofi\n",
      "Kofi\n",
      "Kofi\n",
      "Kofi\n",
      "Kofi\n",
      "Kofi\n",
      "Kofi\n",
      "Kofi\n",
      "Kofi\n",
      "Kofi\n",
      "Kofi\n",
      "Kofi\n",
      "Kofi\n",
      "Kofi\n",
      "Kofi\n",
      "Kofi\n",
      "Kofi\n",
      "Kofi\n",
      "Kofi\n",
      "Kofi\n",
      "Kofi\n",
      "Kofi\n",
      "Kofi\n",
      "Kofi\n",
      "Kofi\n",
      "Kofi\n",
      "Kofi\n",
      "Kofi\n",
      "Kofi\n",
      "Kofi\n",
      "Kofi\n",
      "Kofi\n",
      "Kofi\n",
      "Kofi\n",
      "Kofi\n",
      "Kofi\n",
      "Kofi\n",
      "Kofi\n",
      "Kofi\n",
      "Kofi\n",
      "Kofi\n",
      "Kofi\n",
      "Kofi\n",
      "Kofi\n",
      "Kofi\n",
      "Kofi\n",
      "Kofi\n",
      "Kofi\n",
      "Kofi\n",
      "Kofi\n",
      "Kofi\n",
      "Kofi\n",
      "Kofi\n",
      "Kofi\n",
      "Kofi\n",
      "Kofi\n",
      "Kofi\n",
      "Kofi\n",
      "Kofi\n",
      "Kofi\n",
      "Kofi\n",
      "Kofi\n",
      "Kofi\n",
      "Kofi\n",
      "Kofi\n",
      "Kofi\n",
      "Kofi\n",
      "Kofi\n",
      "Kofi\n",
      "Kofi\n",
      "Kofi\n",
      "Kofi\n",
      "Kofi\n",
      "Kofi\n",
      "Kofi\n",
      "Kofi\n",
      "Kofi\n",
      "Kofi\n",
      "Kofi\n",
      "Kofi\n",
      "Kofi\n",
      "Kofi\n",
      "Kofi\n",
      "Kofi\n",
      "Kofi\n",
      "Kofi\n",
      "Kofi\n",
      "Kofi\n",
      "Kofi\n",
      "Kofi\n",
      "Kofi\n",
      "Kofi\n",
      "Kofi\n"
     ]
    }
   ],
   "source": [
    "Myname = 'Kofi'\n",
    "for i in range(100):\n",
    "    print(Myname)\n",
    "\n"
   ]
  },
  {
   "attachments": {},
   "cell_type": "markdown",
   "metadata": {},
   "source": [
    " Write a program to fill the screen horizontally and vertically with your name. [Hint: add the\n",
    "option end='' into the print function to fill the screen horizontally.]\n"
   ]
  },
  {
   "cell_type": "code",
   "execution_count": 21,
   "metadata": {},
   "outputs": [
    {
     "name": "stdout",
     "output_type": "stream",
     "text": [
      "KofiKofiKofiKofiKofiKofiKofiKofiKofiKofiKofi\n",
      "Kofi\n",
      "Kofi\n",
      "Kofi\n",
      "Kofi\n",
      "Kofi\n",
      "Kofi\n",
      "Kofi\n",
      "Kofi\n",
      "Kofi\n"
     ]
    }
   ],
   "source": [
    "name = 'Kofi'\n",
    "for i in range(10):\n",
    "    print(name,end='')\n",
    "for i in range(10):\n",
    "    print(name)\n",
    "    "
   ]
  },
  {
   "attachments": {},
   "cell_type": "markdown",
   "metadata": {},
   "source": [
    "Write a program that outputs 100 lines, numbered 1 to 100, each with your name on it."
   ]
  },
  {
   "cell_type": "code",
   "execution_count": 22,
   "metadata": {},
   "outputs": [
    {
     "name": "stdout",
     "output_type": "stream",
     "text": [
      "1  Kofi\n",
      "2  Kofi\n",
      "3  Kofi\n",
      "4  Kofi\n",
      "5  Kofi\n",
      "6  Kofi\n",
      "7  Kofi\n",
      "8  Kofi\n",
      "9  Kofi\n",
      "10  Kofi\n",
      "11  Kofi\n",
      "12  Kofi\n",
      "13  Kofi\n",
      "14  Kofi\n",
      "15  Kofi\n",
      "16  Kofi\n",
      "17  Kofi\n",
      "18  Kofi\n",
      "19  Kofi\n",
      "20  Kofi\n",
      "21  Kofi\n",
      "22  Kofi\n",
      "23  Kofi\n",
      "24  Kofi\n",
      "25  Kofi\n",
      "26  Kofi\n",
      "27  Kofi\n",
      "28  Kofi\n",
      "29  Kofi\n",
      "30  Kofi\n",
      "31  Kofi\n",
      "32  Kofi\n",
      "33  Kofi\n",
      "34  Kofi\n",
      "35  Kofi\n",
      "36  Kofi\n",
      "37  Kofi\n",
      "38  Kofi\n",
      "39  Kofi\n",
      "40  Kofi\n",
      "41  Kofi\n",
      "42  Kofi\n",
      "43  Kofi\n",
      "44  Kofi\n",
      "45  Kofi\n",
      "46  Kofi\n",
      "47  Kofi\n",
      "48  Kofi\n",
      "49  Kofi\n",
      "50  Kofi\n",
      "51  Kofi\n",
      "52  Kofi\n",
      "53  Kofi\n",
      "54  Kofi\n",
      "55  Kofi\n",
      "56  Kofi\n",
      "57  Kofi\n",
      "58  Kofi\n",
      "59  Kofi\n",
      "60  Kofi\n",
      "61  Kofi\n",
      "62  Kofi\n",
      "63  Kofi\n",
      "64  Kofi\n",
      "65  Kofi\n",
      "66  Kofi\n",
      "67  Kofi\n",
      "68  Kofi\n",
      "69  Kofi\n",
      "70  Kofi\n",
      "71  Kofi\n",
      "72  Kofi\n",
      "73  Kofi\n",
      "74  Kofi\n",
      "75  Kofi\n",
      "76  Kofi\n",
      "77  Kofi\n",
      "78  Kofi\n",
      "79  Kofi\n",
      "80  Kofi\n",
      "81  Kofi\n",
      "82  Kofi\n",
      "83  Kofi\n",
      "84  Kofi\n",
      "85  Kofi\n",
      "86  Kofi\n",
      "87  Kofi\n",
      "88  Kofi\n",
      "89  Kofi\n",
      "90  Kofi\n",
      "91  Kofi\n",
      "92  Kofi\n",
      "93  Kofi\n",
      "94  Kofi\n",
      "95  Kofi\n",
      "96  Kofi\n",
      "97  Kofi\n",
      "98  Kofi\n",
      "99  Kofi\n",
      "100  Kofi\n"
     ]
    }
   ],
   "source": [
    "for i in range(100):\n",
    "    print(i+1, ' Kofi')"
   ]
  },
  {
   "attachments": {},
   "cell_type": "markdown",
   "metadata": {},
   "source": [
    " Write a program that prints out a list of the integers from 1 to 20 and their squares.\n",
    "\n",
    " The output\n",
    "should look like this:\n",
    "\n",
    "1 --- 1\n",
    "\n",
    "2 --- 4\n",
    "\n",
    "3 --- 9\n",
    "\n",
    "...\n",
    "\n",
    "20 --- 400\n",
    "\n"
   ]
  },
  {
   "cell_type": "code",
   "execution_count": 25,
   "metadata": {},
   "outputs": [
    {
     "name": "stdout",
     "output_type": "stream",
     "text": [
      "1 --- 1\n",
      "2 --- 4\n",
      "3 --- 9\n",
      "4 --- 16\n",
      "5 --- 25\n",
      "6 --- 36\n",
      "7 --- 49\n",
      "8 --- 64\n",
      "9 --- 81\n",
      "10 --- 100\n",
      "11 --- 121\n",
      "12 --- 144\n",
      "13 --- 169\n",
      "14 --- 196\n",
      "15 --- 225\n",
      "16 --- 256\n",
      "17 --- 289\n",
      "18 --- 324\n",
      "19 --- 361\n",
      "20 --- 400\n"
     ]
    }
   ],
   "source": [
    "for i in range(20):\n",
    "    print(i+1,'---',(i+1)**2)\n",
    "    "
   ]
  },
  {
   "attachments": {},
   "cell_type": "markdown",
   "metadata": {},
   "source": [
    "Write a program that uses a for loop to print the numbers 8, 11, 14, 17, 20, . . . , 83, 86, 89."
   ]
  },
  {
   "cell_type": "code",
   "execution_count": 45,
   "metadata": {},
   "outputs": [
    {
     "name": "stdout",
     "output_type": "stream",
     "text": [
      "8,11,14,17,20,23,26,29,32,35,38,41,44,47,50,53,56,59,62,65,68,71,74,77,80,83,86,89\n"
     ]
    }
   ],
   "source": [
    "y = []\n",
    "for i in range(8,90,3):\n",
    "    y.append(i)\n",
    "print(*y,sep=',')\n",
    "    "
   ]
  },
  {
   "attachments": {},
   "cell_type": "markdown",
   "metadata": {},
   "source": [
    "Write a program that uses a for loop to print the numbers 100, 98, 96, . . . , 4, 2."
   ]
  },
  {
   "cell_type": "code",
   "execution_count": 50,
   "metadata": {},
   "outputs": [
    {
     "name": "stdout",
     "output_type": "stream",
     "text": [
      "100,98,96,94,92,90,88,86,84,82,80,78,76,74,72,70,68,66,64,62,60,58,56,54,52,50,48,46,44,42,40,38,36,34,32,30,28,26,24,22,20,18,16,14,12,10,8,6,4,2\n"
     ]
    }
   ],
   "source": [
    "z = []\n",
    "for j in range(100,0,-2):\n",
    "    z.append(j)\n",
    "print(*z,sep=',')"
   ]
  },
  {
   "attachments": {},
   "cell_type": "markdown",
   "metadata": {},
   "source": [
    "Write a program that uses exactly four for loops to print the sequence of letters below.\n",
    "\n",
    "AAAAAAAAAABBBBBBBCDCDCDCDEFFFFFFG"
   ]
  },
  {
   "cell_type": "code",
   "execution_count": 59,
   "metadata": {},
   "outputs": [
    {
     "name": "stdout",
     "output_type": "stream",
     "text": [
      "AAAAAAAAAAABBBBBBBBCDCDCDCDCDEFFFFFFFG\n"
     ]
    }
   ],
   "source": [
    "for i in range(11):\n",
    "    print('A',end='')\n",
    "for i in range(8):\n",
    "    print('B',end='')\n",
    "for i in range(5):\n",
    "    print('CD',end='')\n",
    "print('E',end='')\n",
    "for i in range(7):\n",
    "    print('F',end='')\n",
    "print('G')\n"
   ]
  },
  {
   "attachments": {},
   "cell_type": "markdown",
   "metadata": {},
   "source": [
    " Write a progarm that asks the user for their name and how many times to print it. The program should print out the user’s name the specified number of times."
   ]
  },
  {
   "cell_type": "code",
   "execution_count": 64,
   "metadata": {},
   "outputs": [
    {
     "name": "stdout",
     "output_type": "stream",
     "text": [
      "Kofi\n",
      "Kofi\n",
      "Kofi\n",
      "Kofi\n"
     ]
    }
   ],
   "source": [
    "userName= str(input('enter your name: '))\n",
    "num = int(input('Enter the number of times your name should be printed: '))\n",
    "\n",
    "for i in range(num):\n",
    "    print(userName)"
   ]
  },
  {
   "attachments": {},
   "cell_type": "markdown",
   "metadata": {},
   "source": [
    "The Fibonacci numbers are the sequence below, where the first two numbers are 1, and each\n",
    "number thereafter is the sum of the two preceding numbers. Write a program that asks the\n",
    "user how many Fibonacci numbers to print and then prints that many.\n",
    "\n",
    "$$1, 1, 2, 3, 5, 8, 13, 21, 34, 55, 89 . . .$$"
   ]
  },
  {
   "cell_type": "code",
   "execution_count": 101,
   "metadata": {},
   "outputs": [
    {
     "name": "stdout",
     "output_type": "stream",
     "text": [
      "[1, 1, 2, 3, 5, 8, 13, 21, 34, 55, 89]\n"
     ]
    }
   ],
   "source": [
    "y = [1,1]\n",
    "x = int(input('Enter the number of fibonacci numbers you want: '))\n",
    "for i in range(x-2):\n",
    "    y.append(y[i]+y[i+1])\n",
    "print(y)"
   ]
  },
  {
   "attachments": {},
   "cell_type": "markdown",
   "metadata": {},
   "source": [
    " Use a for loop to print a box like the one below. Allow the user to specify how wide and how\n",
    "high the box should be. [Hint: print('*'*10) prints ten asterisks.]\n"
   ]
  },
  {
   "cell_type": "code",
   "execution_count": 108,
   "metadata": {},
   "outputs": [
    {
     "name": "stdout",
     "output_type": "stream",
     "text": [
      "**********\n",
      "**********\n",
      "**********\n",
      "**********\n",
      "**********\n"
     ]
    }
   ],
   "source": [
    "w = int(input('Specify the wideness'))\n",
    "h = int(input('Specify the height'))\n",
    "\n",
    "for i in range(h):\n",
    "        print('*'*w)"
   ]
  },
  {
   "attachments": {},
   "cell_type": "markdown",
   "metadata": {},
   "source": [
    " Use a for loop to print a triangle like the one below. Allow the user to specify how high the\n",
    "triangle should be"
   ]
  },
  {
   "cell_type": "code",
   "execution_count": 126,
   "metadata": {},
   "outputs": [
    {
     "name": "stdout",
     "output_type": "stream",
     "text": [
      "\n",
      "*\n",
      "**\n",
      "***\n"
     ]
    }
   ],
   "source": [
    "\n",
    "h = int(input('Specify the height'))\n",
    "\n",
    "for i in range(h+1):\n",
    "    print('*'*i)\n",
    "\n",
    "\n",
    "    "
   ]
  },
  {
   "attachments": {},
   "cell_type": "markdown",
   "metadata": {},
   "source": [
    "Use a for loop to print an upside down triangle like the one below. Allow the user to specify\n",
    "how high the triangle should be"
   ]
  },
  {
   "cell_type": "code",
   "execution_count": 128,
   "metadata": {},
   "outputs": [
    {
     "name": "stdout",
     "output_type": "stream",
     "text": [
      "***\n",
      "**\n",
      "*\n"
     ]
    }
   ],
   "source": [
    "h = int(input('Specify the height'))\n",
    "\n",
    "for i in range(h,0,-1):\n",
    "    print('*'*i)"
   ]
  }
 ],
 "metadata": {
  "kernelspec": {
   "display_name": "Python 3",
   "language": "python",
   "name": "python3"
  },
  "language_info": {
   "codemirror_mode": {
    "name": "ipython",
    "version": 3
   },
   "file_extension": ".py",
   "mimetype": "text/x-python",
   "name": "python",
   "nbconvert_exporter": "python",
   "pygments_lexer": "ipython3",
   "version": "3.11.3"
  },
  "orig_nbformat": 4
 },
 "nbformat": 4,
 "nbformat_minor": 2
}

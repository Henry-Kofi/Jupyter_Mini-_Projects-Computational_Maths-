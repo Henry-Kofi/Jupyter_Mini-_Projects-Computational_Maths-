{
 "cells": [
  {
   "attachments": {},
   "cell_type": "markdown",
   "metadata": {},
   "source": [
    "Write a program that asks the user to enter a list of integers. Do the following:\n",
    "\n",
    "(a) Print the total number of items in the list.\n",
    "\n",
    "(b) Print the last item in the list.\n",
    "\n",
    "(c) Print the list in reverse order.\n",
    "\n",
    "(d) Print Yes if the list contains a 5 and No otherwise.\n",
    "\n",
    "(e) Print the number of fives in the list.\n",
    "\n",
    "(f) Remove the first and last items from the list, sort the remaining items, and print the result.\n",
    "\n",
    "g) Print how many integers in the list are less than 5.\n"
   ]
  },
  {
   "cell_type": "code",
   "execution_count": 40,
   "metadata": {},
   "outputs": [
    {
     "name": "stdout",
     "output_type": "stream",
     "text": [
      "Original list [1, 3, 4, 5, 9, 8, 76, 5, 4]\n",
      "The total number of items in the lis is  9\n",
      "The last item in the list is  4\n",
      "The list in reversed oder is  [4, 5, 76, 8, 9, 5, 4, 3, 1]\n",
      "Yes, there is a five\n",
      "The number of five's are  2\n",
      "Sorted :  [3, 4, 5, 5, 8, 9, 76]\n",
      "3 numbers are greater than 5\n"
     ]
    }
   ],
   "source": [
    "a = str(input(\"Enter numbers seperated with  commas ','\"))\n",
    "b = []\n",
    "for i in a.split(','):\n",
    "    b.append(int(i))\n",
    "print('Original list',b)\n",
    "print('The total number of items in the lis is ',len(b))\n",
    "print('The last item in the list is ',b[-1])\n",
    "\n",
    "b.reverse()\n",
    "\n",
    "print('The list in reversed oder is ',b)\n",
    "\n",
    "for i in range(len(b)):\n",
    "    if 5 in b:\n",
    "        print('Yes, there is a five')\n",
    "        break\n",
    "    else:\n",
    "        print('No, there is no five')\n",
    "        break\n",
    "    \n",
    "print(\"The number of five's are \",b.count(5))\n",
    "\n",
    "c = b[1:(len(b)-1)]\n",
    "c.sort()\n",
    "\n",
    "print('Sorted : ',c)\n",
    "\n",
    "total = 0\n",
    "for i in range(len(b)):\n",
    "    if b[i]>5:\n",
    "        total+=1\n",
    "print(total,'numbers are greater than 5')"
   ]
  },
  {
   "attachments": {},
   "cell_type": "markdown",
   "metadata": {},
   "source": [
    "Write a program that generates a list of 20 random numbers between 1 and 100.\n",
    "\n",
    "(a) Print the list.\n",
    "\n",
    "(b) Print the average of the elements in the list.\n",
    "\n",
    "(c) Print the largest and smallest values in the list.\n",
    "\n",
    "(d) Print the second largest and second smallest entries in the list\n",
    "\n",
    "(e) Print how many even numbers are in the list."
   ]
  },
  {
   "cell_type": "code",
   "execution_count": 80,
   "metadata": {},
   "outputs": [
    {
     "name": "stdout",
     "output_type": "stream",
     "text": [
      "[46, 48, 56, 34, 81, 69, 98, 78, 85, 78, 39, 10, 37, 84, 86, 20, 48, 56, 42, 46, 48, 67, 37, 56, 20, 50, 6, 96, 1, 3, 32, 12, 80, 29, 68, 23, 90, 24, 23, 63, 50, 35, 31, 88, 25, 22, 38, 24, 49, 2, 72, 41, 68, 73, 97, 48, 94, 84, 52, 56, 97, 90, 81, 78, 20, 46, 25, 54, 82, 57, 40, 93, 50, 47, 61, 49, 77, 56, 94, 33, 5, 8, 81, 81, 61, 8, 81, 11, 54, 65, 19, 92, 32, 69, 95, 62, 18, 40, 82, 48]\n",
      "Total:  5260\n",
      "Average:  52.6\n",
      "Sorted:  [1, 2, 3, 5, 6, 8, 8, 10, 11, 12, 18, 19, 20, 20, 20, 22, 23, 23, 24, 24, 25, 25, 29, 31, 32, 32, 33, 34, 35, 37, 37, 38, 39, 40, 40, 41, 42, 46, 46, 46, 47, 48, 48, 48, 48, 48, 49, 49, 50, 50, 50, 52, 54, 54, 56, 56, 56, 56, 56, 57, 61, 61, 62, 63, 65, 67, 68, 68, 69, 69, 72, 73, 77, 78, 78, 78, 80, 81, 81, 81, 81, 81, 82, 82, 84, 84, 85, 86, 88, 90, 90, 92, 93, 94, 94, 95, 96, 97, 97, 98]\n",
      "Largest:  98  Smallest:  1\n",
      "Second Largest:  97  Second Smallest:  2\n",
      "Number of even numbers is  60\n"
     ]
    }
   ],
   "source": [
    "from random import randint\n",
    "b = []\n",
    "for i in range(100):\n",
    "    b.append(randint(1,100))\n",
    "print(b)\n",
    "\n",
    "total = 0\n",
    "for i in range(len(b)):\n",
    "    total += b[i]\n",
    "print('Total: ',total)\n",
    "print('Average: ',total/len(b))\n",
    "\n",
    "b.sort()\n",
    "print('Sorted: ',b)\n",
    "print('Largest: ',b[-1], ' Smallest: ',b[0])\n",
    "print('Second Largest: ',b[-2], ' Second Smallest: ',b[1])\n",
    "\n",
    "numEven = 0\n",
    "for i in range(len(b)):\n",
    "    if b[i]%2 == 0:\n",
    "        numEven += 1\n",
    "print('Number of even numbers is ',numEven)"
   ]
  },
  {
   "attachments": {},
   "cell_type": "markdown",
   "metadata": {},
   "source": [
    "Start with the list [8,9,10]. Do the following:\n",
    "\n",
    "(a) Set the second entry (index 1) to 17\n",
    "\n",
    "(b) Add 4, 5, and 6 to the end of the list\n",
    "\n",
    "(c) Remove the first entry from the list\n",
    "\n",
    "(d) Sort the list\n",
    "\n",
    "(e) Double the list\n",
    "\n",
    "(f) Insert 25 at index 3\n",
    "\n",
    "The final list should equal [4,5,6,25,10,17,4,5,6,10,17]"
   ]
  },
  {
   "cell_type": "code",
   "execution_count": 95,
   "metadata": {},
   "outputs": [
    {
     "name": "stdout",
     "output_type": "stream",
     "text": [
      "[4, 5, 6, 25, 10, 17, 4, 5, 6, 10, 17]\n"
     ]
    }
   ],
   "source": [
    "a = [8,9,10]\n",
    "a[1] = 17\n",
    "for i in range(4,7):\n",
    "    a.append(i)\n",
    "a.pop(0)\n",
    "a.sort()\n",
    "b = a*2\n",
    "b.insert(3,25)\n",
    "print(b)"
   ]
  },
  {
   "attachments": {},
   "cell_type": "markdown",
   "metadata": {},
   "source": [
    " Ask the user to enter a list containing numbers between 1 and 12. Then replace all of the\n",
    "entries in the list that are greater than 10 with 10.\n"
   ]
  },
  {
   "cell_type": "code",
   "execution_count": 113,
   "metadata": {},
   "outputs": [
    {
     "name": "stdout",
     "output_type": "stream",
     "text": [
      "Your list is [1, 2, 3, 4, 5, 6, 7, 8, 9]\n"
     ]
    }
   ],
   "source": [
    "# a = str(input(\"Enter numbers from 1 to 12 seperated with  commas ','\"))\n",
    "# b = []\n",
    "# for i in a.split(','):\n",
    "#     b.append(int(i))\n",
    "# print('Original list',b)\n",
    "\n",
    "def userinput():\n",
    "    a = str(input(\"Enter numbers from 1 to 12 seperated with  commas ','\"))\n",
    "    b = []\n",
    "    for i in a.split(','):\n",
    "        b.append(int(i))\n",
    "    return b\n",
    "z = userinput()\n",
    "y = []\n",
    "for i in range(len(z)):\n",
    "    if z[i] > 10:\n",
    "        y.append(10)\n",
    "    else:\n",
    "        y.append(z[i])\n",
    "print('Your list is',y)\n"
   ]
  },
  {
   "attachments": {},
   "cell_type": "markdown",
   "metadata": {},
   "source": [
    " Ask the user to enter a list of strings. Create a new list that consists of those strings with their\n",
    "first characters removed."
   ]
  },
  {
   "cell_type": "code",
   "execution_count": 117,
   "metadata": {},
   "outputs": [
    {
     "name": "stdout",
     "output_type": "stream",
     "text": [
      "Original list:  ['henry', 'kofi', 'ama']\n",
      "['enry', 'ofi', 'ma']\n"
     ]
    }
   ],
   "source": [
    "def userinput():\n",
    "    a = str(input(\"Enter list of stings seperated with  spaces\"))\n",
    "    b = []\n",
    "    for i in a.split(' '):\n",
    "        b.append(str(i))\n",
    "    return b\n",
    "z = userinput()\n",
    "print('Original list: ',z)\n",
    "y = []\n",
    "for i in range(len(z)):\n",
    "    y.append(z[i][1:])\n",
    "print(y)"
   ]
  },
  {
   "attachments": {},
   "cell_type": "markdown",
   "metadata": {},
   "source": [
    " Create the following lists using a for loop.\n",
    "\n",
    "(a) A list consisting of the integers 0 through 49\n",
    "\n",
    "(b) A list containing the squares of the integers 1 through 50.\n",
    "\n",
    "(c) The list ['a','bb','ccc','dddd', . . . ] that ends with 26 copies of the letter z."
   ]
  },
  {
   "cell_type": "code",
   "execution_count": 143,
   "metadata": {},
   "outputs": [
    {
     "name": "stdout",
     "output_type": "stream",
     "text": [
      "(a):  [0, 1, 2, 3, 4, 5, 6, 7, 8, 9, 10, 11, 12, 13, 14, 15, 16, 17, 18, 19, 20, 21, 22, 23, 24, 25, 26, 27, 28, 29, 30, 31, 32, 33, 34, 35, 36, 37, 38, 39, 40, 41, 42, 43, 44, 45, 46, 47, 48, 49]\n",
      "(b):  [1, 4, 9, 16, 25, 36, 49, 64, 81, 100, 121, 144, 169, 196, 225, 256, 289, 324, 361, 400, 441, 484, 529, 576, 625, 676, 729, 784, 841, 900, 961, 1024, 1089, 1156, 1225, 1296, 1369, 1444, 1521, 1600, 1681, 1764, 1849, 1936, 2025, 2116, 2209, 2304, 2401, 2500]\n",
      "['a', 'bb', 'ccc', 'dddd', 'eeeee', 'ffffff', 'ggggggg', 'hhhhhhhh', 'iiiiiiiii', 'jjjjjjjjjj', 'kkkkkkkkkkk', 'llllllllllll', 'mmmmmmmmmmmmm', 'nnnnnnnnnnnnnn', 'ooooooooooooooo', 'pppppppppppppppp', 'qqqqqqqqqqqqqqqqq', 'rrrrrrrrrrrrrrrrrr', 'sssssssssssssssssss', 'tttttttttttttttttttt', 'uuuuuuuuuuuuuuuuuuuuu', 'vvvvvvvvvvvvvvvvvvvvvv', 'wwwwwwwwwwwwwwwwwwwwwww', 'xxxxxxxxxxxxxxxxxxxxxxxx', 'yyyyyyyyyyyyyyyyyyyyyyyyy', 'zzzzzzzzzzzzzzzzzzzzzzzzzz']\n"
     ]
    }
   ],
   "source": [
    "a = []\n",
    "for i in range(50):\n",
    "    a.append(i)\n",
    "print('(a): ',a)\n",
    "\n",
    "b = []\n",
    "for i in range(1,51):\n",
    "    b.append(i**2)\n",
    "print('(b): ',b)\n",
    "\n",
    "c = []\n",
    "for i in range(97,123):\n",
    "    c.append(chr(i))\n",
    "d = []\n",
    "for i in range(len(c)):\n",
    "    d.append(c[i]*(i+1))\n",
    "print(d)"
   ]
  }
 ],
 "metadata": {
  "kernelspec": {
   "display_name": "Python 3",
   "language": "python",
   "name": "python3"
  },
  "language_info": {
   "codemirror_mode": {
    "name": "ipython",
    "version": 3
   },
   "file_extension": ".py",
   "mimetype": "text/x-python",
   "name": "python",
   "nbconvert_exporter": "python",
   "pygments_lexer": "ipython3",
   "version": "3.11.3"
  },
  "orig_nbformat": 4
 },
 "nbformat": 4,
 "nbformat_minor": 2
}
